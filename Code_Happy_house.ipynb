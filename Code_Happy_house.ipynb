{
  "nbformat": 4,
  "nbformat_minor": 0,
  "metadata": {
    "colab": {
      "name": "ToDo_CP_Happy_house.ipynb",
      "provenance": [],
      "collapsed_sections": [],
      "include_colab_link": true
    },
    "kernelspec": {
      "name": "python3",
      "display_name": "Python 3"
    }
  },
  "cells": [
    {
      "cell_type": "markdown",
      "metadata": {
        "id": "view-in-github",
        "colab_type": "text"
      },
      "source": [
        "<a href=\"https://colab.research.google.com/github/belmufti/belmufti/blob/main/Code_Happy_house.ipynb\" target=\"_parent\"><img src=\"https://colab.research.google.com/assets/colab-badge.svg\" alt=\"Open In Colab\"/></a>"
      ]
    },
    {
      "cell_type": "code",
      "metadata": {
        "id": "MuU-RPhvflcW"
      },
      "source": [
        "import numpy as np\n",
        "from sklearn.metrics import confusion_matrix\n",
        "import seaborn as sns\n",
        "import h5py\n",
        "from keras import layers\n",
        "from keras.layers import Input, Dense, Activation, ZeroPadding2D, BatchNormalization, Flatten, Conv2D\n",
        "from keras.layers import AveragePooling2D, MaxPooling2D, Dropout, GlobalMaxPooling2D, GlobalAveragePooling2D\n",
        "from keras.models import Model\n",
        "from keras.preprocessing import image\n",
        "from keras.utils import layer_utils\n",
        "from keras.utils.data_utils import get_file\n",
        "from keras.applications.imagenet_utils import preprocess_input\n",
        "from keras.models import Sequential\n",
        "\n",
        "import pydot\n",
        "from IPython.display import SVG\n",
        "\n",
        "\n",
        "import keras.backend as K\n",
        "K.set_image_data_format('channels_last')\n",
        "import matplotlib.pyplot as plt\n",
        "from matplotlib.pyplot import imshow\n"
      ],
      "execution_count": 5,
      "outputs": []
    },
    {
      "cell_type": "code",
      "metadata": {
        "id": "4Z7gBX7YfTRL"
      },
      "source": [
        "def load_dataset(path_to_train, path_to_test):\n",
        "    train_dataset = h5py.File(path_to_train)\n",
        "    train_x = np.array(train_dataset['train_set_x'][:])\n",
        "    train_y = np.array(train_dataset['train_set_y'][:])\n",
        "\n",
        "    test_dataset = h5py.File(path_to_test)\n",
        "    test_x = np.array(test_dataset['test_set_x'][:])\n",
        "    test_y = np.array(test_dataset['test_set_y'][:])\n",
        "\n",
        "    return train_x, train_y, test_x, test_y"
      ],
      "execution_count": 6,
      "outputs": []
    },
    {
      "cell_type": "markdown",
      "metadata": {
        "id": "roksQQtvizn4"
      },
      "source": [
        "\n",
        "\n",
        "Details of the \"Happy\" dataset:\n",
        "\n",
        "* Images are of shape (64,64,3)\n",
        "* Training: 600 pictures\n",
        "* Test: 150 pictures\n"
      ]
    },
    {
      "cell_type": "markdown",
      "metadata": {
        "id": "z9hCBeyJi--_"
      },
      "source": [
        "# Load Dataset"
      ]
    },
    {
      "cell_type": "code",
      "metadata": {
        "id": "nOZo0cNbg8ts",
        "outputId": "98759bf3-4b4f-4c42-eb6b-8d88ed158292",
        "colab": {
          "base_uri": "https://localhost:8080/"
        }
      },
      "source": [
        "X_train_orig, Y_train_orig, X_test_orig, Y_test_orig = load_dataset(\"/content/train_happy.h5\",\"/content/test_happy.h5\")\n",
        "\n",
        "# Normalize image vectors\n",
        "X_train = X_train_orig/.(1).\n",
        "X_test = X_test_orig/.(1).\n",
        "\n",
        "\n",
        "Y_train = Y_train_orig\n",
        "Y_test = Y_test_orig\n",
        "\n",
        "\n",
        "print (\"number of training examples = \" + str(X_train.shape[0]))\n",
        "print (\"number of test examples = \" + str(X_test.shape[0]))\n",
        "print (\"X_train shape: (.(2).,.(3).,.(4).,.(5).)\" )\n",
        "print (\"Y_train shape: (.(6).,)\" )\n"
      ],
      "execution_count": 23,
      "outputs": [
        {
          "output_type": "stream",
          "name": "stdout",
          "text": [
            "number of training examples = 600\n",
            "number of test examples = 150\n",
            "X_train shape: (.(2).,.(3).,.(4).,.(5).)\n",
            "Y_train shape: (.(6).,)\n"
          ]
        }
      ]
    },
    {
      "cell_type": "code",
      "metadata": {
        "id": "RALj5hk4gMXB",
        "outputId": "7077bcc0-b058-4e16-9e03-0bfd333f6c3a",
        "colab": {
          "base_uri": "https://localhost:8080/",
          "height": 285
        }
      },
      "source": [
        "# Visuzaliser la 11 ème image du train data set.\n",
        "imshow(.(7).)"
      ],
      "execution_count": 9,
      "outputs": [
        {
          "output_type": "execute_result",
          "data": {
            "text/plain": [
              "<matplotlib.image.AxesImage at 0x7f9e8f528050>"
            ]
          },
          "metadata": {},
          "execution_count": 9
        },
        {
          "output_type": "display_data",
          "data": {
            "image/png": "[encoded data removed]",
            "text/plain": [
              "<Figure size 432x288 with 1 Axes>"
            ]
          },
          "metadata": {
            "needs_background": "light"
          }
        }
      ]
    },
    {
      "cell_type": "markdown",
      "metadata": {
        "id": "vQNZh4XxjCiB"
      },
      "source": [
        "# Building Model"
      ]
    },
    {
      "cell_type": "code",
      "metadata": {
        "id": "j1YT0k2rkvAM",
        "colab": {
          "base_uri": "https://localhost:8080/"
        },
        "outputId": "70e02e67-f77e-49eb-f004-2ae46384779d"
      },
      "source": [
        "\n",
        "model = Sequential([Conv2D(filters=.(8)., kernel_size=(.(9).,.(9).), activation='.(10).', padding='.(11).', input_shape=(64, 64, 3)),\n",
        "                        .(12).,\n",
        "                        MaxPooling2D(pool_size=(.(13).,.(13).)),\n",
        "                        Dropout(0.2),\n",
        "                        Conv2D(filters=.(14)., kernel_size=(.(15)., .(15).), activation='.(16).', padding='.(17).'),\n",
        "                        .(18).,\n",
        "                        MaxPooling2D(pool_size=(.(19)., .(19).)),\n",
        "                        Dropout(0.2),\n",
        "                        .(20).,                \n",
        "                        .(21).\n",
        "                     \n",
        "                     ])\n",
        "    \n",
        "\n",
        "model.summary()"
      ],
      "execution_count": 10,
      "outputs": [
        {
          "output_type": "stream",
          "name": "stdout",
          "text": [
            "Model: \"sequential\"\n",
            "_________________________________________________________________\n",
            " Layer (type)                Output Shape              Param #   \n",
            "=================================================================\n",
            " conv2d (Conv2D)             (None, 64, 64, 32)        4736      \n",
            "                                                                 \n",
            " batch_normalization (BatchN  (None, 64, 64, 32)       128       \n",
            " ormalization)                                                   \n",
            "                                                                 \n",
            " max_pooling2d (MaxPooling2D  (None, 32, 32, 32)       0         \n",
            " )                                                               \n",
            "                                                                 \n",
            " dropout (Dropout)           (None, 32, 32, 32)        0         \n",
            "                                                                 \n",
            " conv2d_1 (Conv2D)           (None, 30, 30, 16)        4624      \n",
            "                                                                 \n",
            " batch_normalization_1 (Batc  (None, 30, 30, 16)       64        \n",
            " hNormalization)                                                 \n",
            "                                                                 \n",
            " max_pooling2d_1 (MaxPooling  (None, 15, 15, 16)       0         \n",
            " 2D)                                                             \n",
            "                                                                 \n",
            " dropout_1 (Dropout)         (None, 15, 15, 16)        0         \n",
            "                                                                 \n",
            " flatten (Flatten)           (None, 3600)              0         \n",
            "                                                                 \n",
            " dense (Dense)               (None, 1)                 3601      \n",
            "                                                                 \n",
            "=================================================================\n",
            "Total params: 13,153\n",
            "Trainable params: 13,057\n",
            "Non-trainable params: 96\n",
            "_________________________________________________________________\n"
          ]
        }
      ]
    },
    {
      "cell_type": "code",
      "metadata": {
        "id": "3CtQ3d7pmdEU"
      },
      "source": [
        "model.compile(optimizer='.(22).', loss='.(23).', metrics=[\".(24).\"])"
      ],
      "execution_count": 12,
      "outputs": []
    },
    {
      "cell_type": "code",
      "source": [
        "from keras.callbacks import EarlyStopping\n",
        "mycallbacks = [EarlyStopping(monitor='val_accuracy', patience=.(25).)]"
      ],
      "metadata": {
        "id": "IVxD0crg_AYE"
      },
      "execution_count": 13,
      "outputs": []
    },
    {
      "cell_type": "code",
      "metadata": {
        "id": "JJzOsVQnmsz0",
        "outputId": "e96d159d-da64-4c69-c59c-78520e1f2faa",
        "colab": {
          "base_uri": "https://localhost:8080/"
        }
      },
      "source": [
        "history_model = model.fit(.(26).,validation_data=(.(27).) , epochs=.(28)., batch_size=.(29).,verbose=1,callbacks=.(30).)"
      ],
      "execution_count": 15,
      "outputs": [
        {
          "output_type": "stream",
          "name": "stdout",
          "text": [
            "Epoch 1/30\n",
            "19/19 [==============================] - 5s 268ms/step - loss: 0.1576 - accuracy: 0.9283 - val_loss: 1.0672 - val_accuracy: 0.4400\n",
            "Epoch 2/30\n",
            "19/19 [==============================] - 5s 269ms/step - loss: 0.1428 - accuracy: 0.9400 - val_loss: 0.9983 - val_accuracy: 0.4467\n",
            "Epoch 3/30\n",
            "19/19 [==============================] - 5s 270ms/step - loss: 0.1273 - accuracy: 0.9600 - val_loss: 0.9608 - val_accuracy: 0.5067\n",
            "Epoch 4/30\n",
            "19/19 [==============================] - 5s 269ms/step - loss: 0.1044 - accuracy: 0.9567 - val_loss: 1.0263 - val_accuracy: 0.5067\n",
            "Epoch 5/30\n",
            "19/19 [==============================] - 5s 271ms/step - loss: 0.1137 - accuracy: 0.9567 - val_loss: 0.7610 - val_accuracy: 0.6067\n",
            "Epoch 6/30\n",
            "19/19 [==============================] - 5s 272ms/step - loss: 0.1346 - accuracy: 0.9500 - val_loss: 0.6255 - val_accuracy: 0.6533\n",
            "Epoch 7/30\n",
            "19/19 [==============================] - 5s 267ms/step - loss: 0.1119 - accuracy: 0.9617 - val_loss: 0.4540 - val_accuracy: 0.7600\n",
            "Epoch 8/30\n",
            "19/19 [==============================] - 5s 269ms/step - loss: 0.0892 - accuracy: 0.9667 - val_loss: 0.5427 - val_accuracy: 0.7067\n",
            "Epoch 9/30\n",
            "19/19 [==============================] - 5s 265ms/step - loss: 0.0894 - accuracy: 0.9700 - val_loss: 0.3363 - val_accuracy: 0.8267\n",
            "Epoch 10/30\n",
            "19/19 [==============================] - 5s 266ms/step - loss: 0.1144 - accuracy: 0.9633 - val_loss: 0.1646 - val_accuracy: 0.9267\n",
            "Epoch 11/30\n",
            "19/19 [==============================] - 5s 270ms/step - loss: 0.0856 - accuracy: 0.9767 - val_loss: 0.1906 - val_accuracy: 0.9133\n",
            "Epoch 12/30\n",
            "19/19 [==============================] - 5s 268ms/step - loss: 0.0708 - accuracy: 0.9767 - val_loss: 0.2486 - val_accuracy: 0.8933\n",
            "Epoch 13/30\n",
            "19/19 [==============================] - 5s 266ms/step - loss: 0.0708 - accuracy: 0.9767 - val_loss: 0.3428 - val_accuracy: 0.8333\n",
            "Epoch 14/30\n",
            "19/19 [==============================] - 5s 263ms/step - loss: 0.0798 - accuracy: 0.9750 - val_loss: 0.1782 - val_accuracy: 0.9467\n",
            "Epoch 15/30\n",
            "19/19 [==============================] - 5s 267ms/step - loss: 0.0599 - accuracy: 0.9833 - val_loss: 0.1707 - val_accuracy: 0.9133\n",
            "Epoch 16/30\n",
            "19/19 [==============================] - 5s 268ms/step - loss: 0.0930 - accuracy: 0.9633 - val_loss: 0.2567 - val_accuracy: 0.8800\n",
            "Epoch 17/30\n",
            "19/19 [==============================] - 5s 266ms/step - loss: 0.0771 - accuracy: 0.9833 - val_loss: 0.2779 - val_accuracy: 0.8600\n",
            "Epoch 18/30\n",
            "19/19 [==============================] - 5s 267ms/step - loss: 0.0734 - accuracy: 0.9767 - val_loss: 0.2410 - val_accuracy: 0.8533\n",
            "Epoch 19/30\n",
            "19/19 [==============================] - 5s 267ms/step - loss: 0.0748 - accuracy: 0.9750 - val_loss: 0.4075 - val_accuracy: 0.8000\n"
          ]
        }
      ]
    }
  ]
}