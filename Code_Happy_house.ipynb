{
  "nbformat": 4,
  "nbformat_minor": 0,
  "metadata": {
    "colab": {
      "name": "ToDo_CP_Happy_house.ipynb",
      "provenance": [],
      "collapsed_sections": [],
      "include_colab_link": true
    },
    "kernelspec": {
      "name": "python3",
      "display_name": "Python 3"
    }
  },
  "cells": [
    {
      "cell_type": "markdown",
      "metadata": {
        "id": "view-in-github",
        "colab_type": "text"
      },
      "source": [
        "<a href=\"https://colab.research.google.com/github/belmufti/belmufti/blob/main/Code_Happy_house.ipynb\" target=\"_parent\"><img src=\"https://colab.research.google.com/assets/colab-badge.svg\" alt=\"Open In Colab\"/></a>"
      ]
    },
    {
      "cell_type": "markdown",
      "metadata": {
        "id": "2th5H5b1hbcS"
      },
      "source": [
        "# If you happy and I know it you can enter my House \n",
        "\n",
        "You'll see how you can in a couple of hours build a deep learning algorithm."
      ]
    },
    {
      "cell_type": "code",
      "metadata": {
        "id": "MuU-RPhvflcW"
      },
      "source": [
        "import numpy as np\n",
        "from sklearn.metrics import confusion_matrix\n",
        "import seaborn as sns\n",
        "import h5py\n",
        "from keras import layers\n",
        "from keras.layers import Input, Dense, Activation, ZeroPadding2D, BatchNormalization, Flatten, Conv2D\n",
        "from keras.layers import AveragePooling2D, MaxPooling2D, Dropout, GlobalMaxPooling2D, GlobalAveragePooling2D\n",
        "from keras.models import Model\n",
        "from keras.preprocessing import image\n",
        "from keras.utils import layer_utils\n",
        "from keras.utils.data_utils import get_file\n",
        "from keras.applications.imagenet_utils import preprocess_input\n",
        "from keras.models import Sequential\n",
        "\n",
        "import pydot\n",
        "from IPython.display import SVG\n",
        "\n",
        "\n",
        "import keras.backend as K\n",
        "K.set_image_data_format('channels_last')\n",
        "import matplotlib.pyplot as plt\n",
        "from matplotlib.pyplot import imshow\n"
      ],
      "execution_count": 1,
      "outputs": []
    },
    {
      "cell_type": "code",
      "metadata": {
        "id": "4Z7gBX7YfTRL"
      },
      "source": [
        "def load_dataset(path_to_train, path_to_test):\n",
        "    train_dataset = h5py.File(path_to_train)\n",
        "    train_x = np.array(train_dataset['train_set_x'][:])\n",
        "    train_y = np.array(train_dataset['train_set_y'][:])\n",
        "\n",
        "    test_dataset = h5py.File(path_to_test)\n",
        "    test_x = np.array(test_dataset['test_set_x'][:])\n",
        "    test_y = np.array(test_dataset['test_set_y'][:])\n",
        "\n",
        "    # y reshaped\n",
        "   # train_y = train_y.reshape((1, train_x.shape[0]))\n",
        "   # test_y = test_y.reshape((1, test_y.shape[0]))\n",
        "\n",
        "    return train_x, train_y, test_x, test_y"
      ],
      "execution_count": 4,
      "outputs": []
    },
    {
      "cell_type": "markdown",
      "metadata": {
        "id": "roksQQtvizn4"
      },
      "source": [
        "\n",
        "\n",
        "Details of the \"Happy\" dataset:\n",
        "\n",
        "* Images are of shape (64,64,3)\n",
        "* Training: 600 pictures\n",
        "* Test: 150 pictures\n"
      ]
    },
    {
      "cell_type": "markdown",
      "metadata": {
        "id": "z9hCBeyJi--_"
      },
      "source": [
        "# Load Dataset"
      ]
    },
    {
      "cell_type": "code",
      "metadata": {
        "id": "nOZo0cNbg8ts",
        "outputId": "27316c57-ca29-4879-dfe6-e6066c0b3ae0",
        "colab": {
          "base_uri": "https://localhost:8080/",
          "height": 0
        }
      },
      "source": [
        "X_train_orig, Y_train_orig, X_test_orig, Y_test_orig = load_dataset(\"/content/train_happy.h5\",\"/content/test_happy.h5\")\n",
        "\n",
        "# Normalize image vectors\n",
        "X_train = X_train_orig/255.\n",
        "X_test = X_test_orig/255\n",
        "\n",
        "\n",
        "Y_train = Y_train_orig\n",
        "Y_test = Y_test_orig\n",
        "\n",
        "\n",
        "print (\"number of training examples = \" + str(X_train.shape[0]))\n",
        "print (\"number of test examples = \" + str(X_test.shape[0]))\n",
        "print (\"X_train shape: \" + str(X_train.shape))\n",
        "print (\"Y_train shape: \" + str(Y_train.shape))\n",
        "print (\"X_test shape: \" + str(X_test.shape))\n",
        "print (\"Y_test shape: \" + str(Y_test.shape))"
      ],
      "execution_count": 8,
      "outputs": [
        {
          "output_type": "stream",
          "name": "stdout",
          "text": [
            "number of training examples = 600\n",
            "number of test examples = 150\n",
            "X_train shape: (600, 64, 64, 3)\n",
            "Y_train shape: (600,)\n",
            "X_test shape: (150, 64, 64, 3)\n",
            "Y_test shape: (150,)\n"
          ]
        }
      ]
    },
    {
      "cell_type": "code",
      "metadata": {
        "id": "RALj5hk4gMXB",
        "outputId": "3ee1c09f-c1cd-4344-e86a-4d1a1dad16a9",
        "colab": {
          "base_uri": "https://localhost:8080/",
          "height": 303
        }
      },
      "source": [
        "# Sample image from dataset\n",
        "print(\"Image shape :\",X_train_orig[10].shape)\n",
        "imshow(X_train_orig[11])"
      ],
      "execution_count": 10,
      "outputs": [
        {
          "output_type": "stream",
          "name": "stdout",
          "text": [
            "Image shape : (64, 64, 3)\n"
          ]
        },
        {
          "output_type": "execute_result",
          "data": {
            "text/plain": [
              "<matplotlib.image.AxesImage at 0x7fea6e247e50>"
            ]
          },
          "metadata": {},
          "execution_count": 10
        },
        {
          "output_type": "display_data",
          "data": {
            "image/png": "[encoded data removed]",
            "text/plain": [
              "<Figure size 432x288 with 1 Axes>"
            ]
          },
          "metadata": {
            "needs_background": "light"
          }
        }
      ]
    },
    {
      "cell_type": "markdown",
      "metadata": {
        "id": "vQNZh4XxjCiB"
      },
      "source": [
        "# Building Model"
      ]
    },
    {
      "cell_type": "code",
      "metadata": {
        "id": "j1YT0k2rkvAM",
        "colab": {
          "base_uri": "https://localhost:8080/",
          "height": 0
        },
        "outputId": "a6e2d5ec-2795-4f12-92f5-ef7f699b8577"
      },
      "source": [
        "\n",
        "model = Sequential([Conv2D(filters=32, kernel_size=(...(2)...,...(2)...), activation='relu', padding='same', input_shape=(64, 64, 3)),\n",
        "                        BatchNormalization(),\n",
        "                        MaxPooling2D(pool_size=(2,2)),\n",
        "                        Dropout(0.2),\n",
        "                        Conv2D(filters=16, kernel_size=(3, 3), activation='relu', padding='valid'),\n",
        "                        BatchNormalization(),\n",
        "                        MaxPooling2D(pool_size=(2, 2)),\n",
        "                        Dropout(0.2),\n",
        "                        Flatten(),\n",
        "                        #Dense(128, activation='relu'),\n",
        "                        Dense(1, activation='sigmoid')\n",
        "                     \n",
        "                     ])\n",
        "    \n",
        "\n",
        "model.summary()"
      ],
      "execution_count": 24,
      "outputs": [
        {
          "output_type": "stream",
          "name": "stdout",
          "text": [
            "Model: \"sequential_2\"\n",
            "_________________________________________________________________\n",
            " Layer (type)                Output Shape              Param #   \n",
            "=================================================================\n",
            " conv2d_5 (Conv2D)           (None, 64, 64, 32)        4736      \n",
            "                                                                 \n",
            " batch_normalization_4 (Batc  (None, 64, 64, 32)       128       \n",
            " hNormalization)                                                 \n",
            "                                                                 \n",
            " max_pooling2d_4 (MaxPooling  (None, 32, 32, 32)       0         \n",
            " 2D)                                                             \n",
            "                                                                 \n",
            " dropout_3 (Dropout)         (None, 32, 32, 32)        0         \n",
            "                                                                 \n",
            " conv2d_6 (Conv2D)           (None, 30, 30, 16)        4624      \n",
            "                                                                 \n",
            " batch_normalization_5 (Batc  (None, 30, 30, 16)       64        \n",
            " hNormalization)                                                 \n",
            "                                                                 \n",
            " max_pooling2d_5 (MaxPooling  (None, 15, 15, 16)       0         \n",
            " 2D)                                                             \n",
            "                                                                 \n",
            " dropout_4 (Dropout)         (None, 15, 15, 16)        0         \n",
            "                                                                 \n",
            " flatten_2 (Flatten)         (None, 3600)              0         \n",
            "                                                                 \n",
            " dense_2 (Dense)             (None, 1)                 3601      \n",
            "                                                                 \n",
            "=================================================================\n",
            "Total params: 13,153\n",
            "Trainable params: 13,057\n",
            "Non-trainable params: 96\n",
            "_________________________________________________________________\n"
          ]
        }
      ]
    },
    {
      "cell_type": "code",
      "metadata": {
        "id": "3CtQ3d7pmdEU"
      },
      "source": [
        "model.compile(optimizer='adam', loss='binary_crossentropy', metrics=[\"accuracy\"])"
      ],
      "execution_count": 25,
      "outputs": []
    },
    {
      "cell_type": "code",
      "source": [
        "from keras.callbacks import EarlyStopping\n",
        "mycallbacks = [EarlyStopping(monitor='val_accuracy', patience=5)]"
      ],
      "metadata": {
        "id": "IVxD0crg_AYE"
      },
      "execution_count": 26,
      "outputs": []
    },
    {
      "cell_type": "code",
      "metadata": {
        "id": "JJzOsVQnmsz0",
        "outputId": "02a625d2-90af-410b-dd88-2326e849af79",
        "colab": {
          "base_uri": "https://localhost:8080/",
          "height": 0
        }
      },
      "source": [
        "history_model = model.fit(X_train, Y_train,validation_data=(X_test, Y_test) , epochs=30, batch_size=32,verbose=1,callbacks=mycallbacks)"
      ],
      "execution_count": 29,
      "outputs": [
        {
          "output_type": "stream",
          "name": "stdout",
          "text": [
            "Epoch 1/30\n",
            "19/19 [==============================] - 5s 281ms/step - loss: 0.0340 - accuracy: 0.9883 - val_loss: 0.3294 - val_accuracy: 0.8400\n",
            "Epoch 2/30\n",
            "19/19 [==============================] - 5s 276ms/step - loss: 0.0415 - accuracy: 0.9867 - val_loss: 0.3942 - val_accuracy: 0.8333\n",
            "Epoch 3/30\n",
            "19/19 [==============================] - 5s 275ms/step - loss: 0.0741 - accuracy: 0.9800 - val_loss: 0.5870 - val_accuracy: 0.7400\n",
            "Epoch 4/30\n",
            "19/19 [==============================] - 5s 276ms/step - loss: 0.0538 - accuracy: 0.9833 - val_loss: 0.3259 - val_accuracy: 0.8333\n",
            "Epoch 5/30\n",
            "19/19 [==============================] - 5s 275ms/step - loss: 0.0776 - accuracy: 0.9700 - val_loss: 0.1340 - val_accuracy: 0.9600\n",
            "Epoch 6/30\n",
            "19/19 [==============================] - 5s 274ms/step - loss: 0.1413 - accuracy: 0.9483 - val_loss: 0.5172 - val_accuracy: 0.7733\n",
            "Epoch 7/30\n",
            "19/19 [==============================] - 5s 273ms/step - loss: 0.0913 - accuracy: 0.9650 - val_loss: 0.1717 - val_accuracy: 0.9667\n",
            "Epoch 8/30\n",
            "19/19 [==============================] - 5s 275ms/step - loss: 0.0700 - accuracy: 0.9767 - val_loss: 0.2994 - val_accuracy: 0.8600\n",
            "Epoch 9/30\n",
            "19/19 [==============================] - 5s 275ms/step - loss: 0.0703 - accuracy: 0.9767 - val_loss: 0.1281 - val_accuracy: 0.9533\n",
            "Epoch 10/30\n",
            "19/19 [==============================] - 5s 276ms/step - loss: 0.0464 - accuracy: 0.9900 - val_loss: 0.1089 - val_accuracy: 0.9533\n",
            "Epoch 11/30\n",
            "19/19 [==============================] - 5s 275ms/step - loss: 0.0430 - accuracy: 0.9833 - val_loss: 0.1274 - val_accuracy: 0.9333\n",
            "Epoch 12/30\n",
            "19/19 [==============================] - 5s 276ms/step - loss: 0.0488 - accuracy: 0.9800 - val_loss: 0.1199 - val_accuracy: 0.9600\n"
          ]
        }
      ]
    },
    {
      "cell_type": "markdown",
      "metadata": {
        "id": "MZFI90ydpx0n"
      },
      "source": [
        "# Evaluate / Test"
      ]
    },
    {
      "cell_type": "code",
      "metadata": {
        "id": "xV8Jav30myg0",
        "outputId": "2b6d9f46-94b0-40bd-a200-897c20127007",
        "colab": {
          "base_uri": "https://localhost:8080/",
          "height": 299
        }
      },
      "source": [
        "train_accuracy = history_model.history[None]\n",
        "train_loss = history_model.history[None]\n",
        "\n",
        "count = range(len(train_accuracy))\n",
        "plt.plot(count, train_accuracy, label='Training accuracy')\n",
        "plt.plot(count, train_loss, label='Training Loss')\n",
        "plt.title('epochs vs Training Loss')\n",
        "plt.legend()"
      ],
      "execution_count": null,
      "outputs": [
        {
          "output_type": "execute_result",
          "data": {
            "text/plain": [
              "<matplotlib.legend.Legend at 0x7f91c5efefd0>"
            ]
          },
          "metadata": {
            "tags": []
          },
          "execution_count": 22
        },
        {
          "output_type": "display_data",
          "data": {
            "image/png": "[encoded data removed]",
            "text/plain": [
              "<Figure size 432x288 with 1 Axes>"
            ]
          },
          "metadata": {
            "tags": [],
            "needs_background": "light"
          }
        }
      ]
    },
    {
      "cell_type": "markdown",
      "metadata": {
        "id": "gBOEETB6qD3L"
      },
      "source": [
        "Evaluate Test set"
      ]
    },
    {
      "cell_type": "code",
      "metadata": {
        "id": "VNuzxr58m6bI"
      },
      "source": [
        "# Code Here"
      ],
      "execution_count": null,
      "outputs": []
    },
    {
      "cell_type": "markdown",
      "metadata": {
        "id": "hFC1nz5_p33b"
      },
      "source": [
        "Confusion Matrix"
      ]
    },
    {
      "cell_type": "code",
      "metadata": {
        "id": "iflIgFgnnIfv"
      },
      "source": [
        "# Code Here"
      ],
      "execution_count": null,
      "outputs": []
    },
    {
      "cell_type": "markdown",
      "metadata": {
        "id": "QQKL1aDLqjqU"
      },
      "source": [
        "# Note\n",
        "\n",
        "Before you submit your work \n",
        "\n",
        "* You should compare different optimizers\n",
        "\n",
        "---\n",
        "\n",
        "* Display images with Predicted & expected labels (Happy-sad)\n"
      ]
    },
    {
      "cell_type": "code",
      "metadata": {
        "id": "EW_BaM-9p69t"
      },
      "source": [
        ""
      ],
      "execution_count": null,
      "outputs": []
    }
  ]
}